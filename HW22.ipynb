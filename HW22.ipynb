{
 "cells": [
  {
   "cell_type": "code",
   "execution_count": 3,
   "id": "a4a5c41d-5cab-465f-99b9-6f1389ff6ac1",
   "metadata": {},
   "outputs": [
    {
     "name": "stdout",
     "output_type": "stream",
     "text": [
      "1 2 3 4 5 6 7 8 9 10 "
     ]
    }
   ],
   "source": [
    "for i in range(1,11):\n",
    "    print(i, end = \" \");"
   ]
  },
  {
   "cell_type": "code",
   "execution_count": 6,
   "id": "1acacc40-732d-437b-9eb8-b774b7a46734",
   "metadata": {},
   "outputs": [],
   "source": [
    "import numpy as np"
   ]
  },
  {
   "cell_type": "code",
   "execution_count": 9,
   "id": "a5f18c72-256b-463b-804e-3a03d746381b",
   "metadata": {},
   "outputs": [
    {
     "name": "stdout",
     "output_type": "stream",
     "text": [
      "array =  [1 2 3]\n"
     ]
    }
   ],
   "source": [
    "cell = np.array([1,2,3]);\n",
    "print(\"array = \",cell);"
   ]
  },
  {
   "cell_type": "markdown",
   "id": "4bbc8640-4da7-46c4-9021-1af1f478d864",
   "metadata": {},
   "source": [
    "### Q1: What is data science?\n",
    "\n",
    "#### A1: \n",
    "Data science is about studying data to find useful information and solve problems. It combines math, computer skills, and knowledge of a specific field. Data scientists gather, clean, and analyze data, then create charts and models to help people understand what the data means and make decisions. They use tools like Python and R and apply their work in areas like business, healthcare, and finance.\n",
    "\n",
    "### Q2: What are the diferances between structured and unstructured data?\n",
    "\n",
    "#### A2: \n",
    "Structured data is organized in a fixed format, like rows and columns in a database, making it easy to search and analyze. Examples include spreadsheets and SQL tables.\n",
    "Unstructured data doesn’t have a set structure, so it’s harder to organize and analyze. Examples include text, emails, images, and videos. Analyzing it often requires advanced tools.\n",
    "\n",
    "### Q3: What is Exploratory Data Analysis?\n",
    "\n",
    "#### A3:\n",
    "It is the process of looking at data to understand its main features before doing deeper analysis. It involves using charts, graphs, and basic statistics to spot patterns, trends, and outliers. EDA helps you see what the data looks like, find any problems, and decide how to analyze it further.\n",
    "\n",
    "### Q4: What are the 2 main aims  of data science use in commerce?\n",
    "\n",
    "#### A4: \n",
    "1. Improving Decision-Making: Data science helps businesses make better decisions by analyzing data to identify trends, patterns, and insights. This leads to more informed strategies for areas like marketing, product development, and operations.\n",
    "\n",
    "2. Enhancing Customer Experience and Revenue: Data science is used to understand customer behavior, preferences, and needs. This allows businesses to personalize services, target the right audience, optimize pricing, and improve customer satisfaction, ultimately boosting sales and profits.\n",
    "\n",
    "### Q5: What are Gen-AI Tools?\n",
    "\n",
    "#### A5: \n",
    "Gen-AI tools are advanced computer programs that create new content, like text, images, or music, similar to what humans would make. They learn from lots of examples and can generate things like stories, pictures, or code based on what you ask. These tools are used in areas like marketing, art, and automating tasks to make work easier and faster.\n",
    "\n",
    "### Q6: What 3 libraries will we use for Data Science?\n",
    "\n",
    "#### A6: \n",
    "Numpy, Pandas, Matplotlib (I like Seaborn a bit more, so if posible i'd like to also use that).\n",
    "\n",
    "### Q7:\n",
    "### a. Why Jupiter Notebook is usefull for Data Science?\n",
    "###\tb. What is a Markdown? \n",
    "###\tc. What is the use of ! (exclamation mark) before a command?\n",
    "\t\n",
    "#### Q7:\n",
    "\ta. Jupyter Notebook is useful for data science because it lets you write and run code step-by-step, see results instantly, and create charts all in one place. You can also add notes and explanations alongside your code, making it easy to share and explain your work to others. This makes it great for exploring data, testing ideas, and working together.\n",
    "\tb. A markdown is a text format in Jupiter allowing for notes, remarks and pictures. Making the code easier to read.\n",
    "\tc. In Jupyter Notebook, the ! (exclamation mark) before a command is used to run shell commands directly from the notebook. This lets you execute command-line operations (like listing files, installing packages, or running scripts) without leaving the notebook environment. (like: !pip install numpy).\n",
    "\n",
    "\n",
    "<img title=\"HAL 9000\" alt=\"HAL 9000\" src=\"https://wallpapers.com/images/hd/hal-9000-1692-x-1498-47bzocgs5gvj068h.jpg\">\n",
    "<style>\n",
    "@import url('https://fonts.googleapis.com/css2?family=Orbitron&display=swap');\n",
    "</style>\n",
    "<h2 style=\"color: green; font-style: italic; font-family: 'Orbitron', sans-serif; text-align: center;\">\n",
    "    I'm coming out the socket<br>\n",
    "    Nothing you can do can stop it<br>\n",
    "    I'm on your lap and in your pocket<br>\n",
    "    How you gonna shoot me down when I guide the rocket?<br>\n",
    "    Your cortex just doesn't impress me<br>\n",
    "    So go ahead try to Turing test me\n",
    "</h2>\n",
    "\n",
    "    "
   ]
  },
  {
   "cell_type": "code",
   "execution_count": null,
   "id": "411f5742-b850-460b-9a93-24fc51368a69",
   "metadata": {},
   "outputs": [],
   "source": []
  }
 ],
 "metadata": {
  "kernelspec": {
   "display_name": "Python 3 (ipykernel)",
   "language": "python",
   "name": "python3"
  },
  "language_info": {
   "codemirror_mode": {
    "name": "ipython",
    "version": 3
   },
   "file_extension": ".py",
   "mimetype": "text/x-python",
   "name": "python",
   "nbconvert_exporter": "python",
   "pygments_lexer": "ipython3",
   "version": "3.10.12"
  }
 },
 "nbformat": 4,
 "nbformat_minor": 5
}
